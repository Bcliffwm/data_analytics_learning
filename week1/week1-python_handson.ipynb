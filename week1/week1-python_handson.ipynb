{
 "cells": [
  {
   "cell_type": "markdown",
   "metadata": {},
   "source": [
    "## What are Data Types\n",
    "### Data types are containers for data. They can vary in characteristics and traits across different programming languages, but programmers generally keep their data stored using conventional methods to avoid unexpected interactions with their programs at run-time."
   ]
  },
  {
   "cell_type": "markdown",
   "metadata": {},
   "source": [
    "* Primative Data Types\n",
    "* Composite Data Types/User-defined Data Types\n",
    "* Dynamic Data Types\n",
    "\n",
    "\n",
    "https://www.geeksforgeeks.org/data-types-in-programming/"
   ]
  },
  {
   "cell_type": "markdown",
   "metadata": {},
   "source": [
    "### What are Primative Data Types?\n",
    "#### Primative Data Types are predefined containers across all programming languages that act independently of all other types of data. These types of data are basic in attribute and characteristics such as text or numbers.\n",
    "\n",
    "* Character\n",
    "* Numeric\n",
    "    - Integer\n",
    "    - Floating-point\n",
    "    - Decimal\n",
    "* Boolean\n",
    "* Date\n",
    "* Time\n",
    "* Datetime"
   ]
  },
  {
   "cell_type": "markdown",
   "metadata": {},
   "source": [
    "#### Programmers would typically create more complex data types using the Primative Types to meet more complex requirements and specific capabilities"
   ]
  },
  {
   "cell_type": "markdown",
   "metadata": {},
   "source": [
    "### What are Composite Data Types?\n",
    "#### Composite Data Types, aka User-Defined Data Types, are composed of Primative Data Types created by the User or Programmer. Composite Types are either semi-structured (data stored in a set of relationships), multimedia (music, images, videos, etc.), homogenous (all values must be of the same type), or tabular (think CSV files)"
   ]
  },
  {
   "cell_type": "markdown",
   "metadata": {},
   "source": [
    "* Strings\n",
    "* Arrays\n",
    "* Lists\n",
    "* Dictionaries\n",
    "* Pointers"
   ]
  },
  {
   "cell_type": "markdown",
   "metadata": {},
   "source": []
  },
  {
   "cell_type": "markdown",
   "metadata": {},
   "source": [
    "## Variable Initialization and Assignment"
   ]
  },
  {
   "cell_type": "code",
   "execution_count": 2,
   "metadata": {},
   "outputs": [],
   "source": [
    "my_string = 'Hello World' # Allocating disk space for string object\n",
    "my_int = 2 # Allocating disk space for integer object\n",
    "my_float = 10.25 # Allocating space for floating-point object\n",
    "my_bool = True # Allocating space for boolean object"
   ]
  },
  {
   "cell_type": "code",
   "execution_count": 6,
   "metadata": {},
   "outputs": [],
   "source": [
    "a_new_string = 'My name is Ben'"
   ]
  },
  {
   "cell_type": "markdown",
   "metadata": {},
   "source": [
    "## Useful Commands for Python\n",
    "### Dir(), Globals(), Locals(), print(), %who, %who_ls"
   ]
  },
  {
   "cell_type": "code",
   "execution_count": null,
   "metadata": {},
   "outputs": [],
   "source": [
    "print('Hello World') # prints whatever is inside the statement to the terminal\n",
    "print(my_string)"
   ]
  },
  {
   "cell_type": "code",
   "execution_count": null,
   "metadata": {},
   "outputs": [],
   "source": [
    "dir()"
   ]
  },
  {
   "cell_type": "code",
   "execution_count": null,
   "metadata": {},
   "outputs": [],
   "source": [
    "[elem for elem in dir() if elem[0] != '_'] # useful code to show user-defined variables and other methods in scope"
   ]
  },
  {
   "cell_type": "code",
   "execution_count": null,
   "metadata": {},
   "outputs": [],
   "source": [
    "globals() # provides dictionary of global variables"
   ]
  },
  {
   "cell_type": "code",
   "execution_count": null,
   "metadata": {},
   "outputs": [],
   "source": [
    "locals() # provides dictionary of local variables"
   ]
  },
  {
   "cell_type": "code",
   "execution_count": null,
   "metadata": {},
   "outputs": [],
   "source": [
    "%who # prints all user-defined variables for those using IPython"
   ]
  },
  {
   "cell_type": "code",
   "execution_count": null,
   "metadata": {},
   "outputs": [],
   "source": [
    "%who_ls # prints list of user-defined variables for those using IPython"
   ]
  },
  {
   "cell_type": "markdown",
   "metadata": {},
   "source": [
    "## Mathematical operators"
   ]
  },
  {
   "cell_type": "code",
   "execution_count": null,
   "metadata": {},
   "outputs": [],
   "source": [
    "print(2)\n",
    "print(3)\n",
    "print(2+3) # addition\n",
    "print(2-3) # subtraction\n",
    "print(2*3) # multiplication\n",
    "print(2/3) # division\n",
    "print(2**3) # exponentials"
   ]
  },
  {
   "cell_type": "code",
   "execution_count": null,
   "metadata": {},
   "outputs": [],
   "source": [
    "## Take note of the data types\n",
    "print(type(2))\n",
    "print(type(3))\n",
    "print(type(2+3)) # addition\n",
    "print(type(2-3)) # subtraction\n",
    "print(type(2*3)) # multiplication\n",
    "print(type(2/3)) # division\n",
    "print(type(2**3)) # exponentials"
   ]
  },
  {
   "cell_type": "markdown",
   "metadata": {},
   "source": [
    "## Logical Operators"
   ]
  },
  {
   "cell_type": "code",
   "execution_count": null,
   "metadata": {},
   "outputs": [],
   "source": [
    "print(1 > 0) # checks, left to right, value greater than\n",
    "print(1 < 0) # checks, left to right, value less than\n",
    "print(1 == 0) # checks equality\n",
    "print(1 != 0) # checks for inequality"
   ]
  },
  {
   "cell_type": "markdown",
   "metadata": {},
   "source": [
    "## Checking Data Types"
   ]
  },
  {
   "cell_type": "code",
   "execution_count": null,
   "metadata": {},
   "outputs": [],
   "source": [
    "print(isinstance(my_string, str)) #takes two arguments - variable/expression and a datatype returns a boolean value\n",
    "print(isinstance(my_string, bool))\n",
    "print(isinstance(my_float, float))"
   ]
  },
  {
   "cell_type": "markdown",
   "metadata": {},
   "source": [
    "### This is useful for code that uses specific conditions to trigger certain functions"
   ]
  },
  {
   "cell_type": "code",
   "execution_count": null,
   "metadata": {},
   "outputs": [],
   "source": [
    "if isinstance(my_string, str):\n",
    "    print('Do something cool here')\n",
    "else:\n",
    "    print('Don\\'t do something cool here')"
   ]
  },
  {
   "cell_type": "code",
   "execution_count": null,
   "metadata": {},
   "outputs": [],
   "source": [
    "if isinstance(my_string, bool):\n",
    "    print('Do something cool here')\n",
    "else:\n",
    "    print('Don\\'t do something cool here')"
   ]
  }
 ],
 "metadata": {
  "kernelspec": {
   "display_name": "data_analytics_learning",
   "language": "python",
   "name": "python3"
  },
  "language_info": {
   "codemirror_mode": {
    "name": "ipython",
    "version": 3
   },
   "file_extension": ".py",
   "mimetype": "text/x-python",
   "name": "python",
   "nbconvert_exporter": "python",
   "pygments_lexer": "ipython3",
   "version": "3.12.7"
  }
 },
 "nbformat": 4,
 "nbformat_minor": 2
}
